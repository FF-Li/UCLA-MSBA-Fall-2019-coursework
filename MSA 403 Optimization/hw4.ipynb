{
 "cells": [
  {
   "cell_type": "markdown",
   "metadata": {},
   "source": [
    "# MGMTMSA 403 Assignment 4: Logistic Regression and Gradient Descent\n"
   ]
  },
  {
   "cell_type": "markdown",
   "metadata": {},
   "source": [
    "# Problem 1"
   ]
  },
  {
   "cell_type": "code",
   "execution_count": 2,
   "metadata": {},
   "outputs": [],
   "source": [
    "import numpy as np\n",
    "from numpy import genfromtxt\n",
    "import pandas as pd\n",
    "import math\n",
    "import matplotlib.pyplot as plt\n",
    "# Load data\n",
    "data = genfromtxt('LRTrain.csv', delimiter=',',skip_header = 1)\n",
    "n = data.shape[0]\n",
    "d = data.shape[1]-1\n",
    "# get feature data\n",
    "x = data[:,0:d]\n",
    "\n",
    "# get label data\n",
    "y = data[:,d]\n",
    "\n",
    "# initialize weights\n",
    "w = np.zeros(d)\n",
    "\n",
    "## Define gradient function\n",
    "def grad(w,x,y):\n",
    "    g = np.zeros(d)\n",
    "    for i in range(n):\n",
    "        g = g + (1/(1+np.exp(np.dot(-w,x[i,:])))-y[i])*x[i,:]\n",
    "    return (1/n)*g\n",
    "\n",
    "## Define negative log likelihood function\n",
    "def fval(w,x,y):\n",
    "    v = 0;\n",
    "    for i in range(n):\n",
    "        v = v + (y[i]*np.log(1+np.exp(-np.dot(w,x[i,:]))) + (1-y[i])*np.log(1+np.exp(np.dot(w,x[i,:]))))\n",
    "    return (1/n)*v"
   ]
  },
  {
   "cell_type": "code",
   "execution_count": 3,
   "metadata": {},
   "outputs": [
    {
     "name": "stdout",
     "output_type": "stream",
     "text": [
      "0.23358128961163924\n"
     ]
    }
   ],
   "source": [
    "stepsize=0.00001\n",
    "tol=0.5\n",
    "T=2000\n",
    "grads=[]\n",
    "for i in range(T):\n",
    "    curgrad=grad(w,x,y)\n",
    "    if (np.linalg.norm(curgrad)>=tol):\n",
    "        w=w-stepsize*curgrad\n",
    "        grads.append(np.linalg.norm(curgrad))\n",
    "    else:\n",
    "        break\n",
    "fval1=fval(w,x,y)\n",
    "print(fval1)"
   ]
  },
  {
   "cell_type": "code",
   "execution_count": 4,
   "metadata": {},
   "outputs": [
    {
     "data": {
      "text/plain": [
       "[<matplotlib.lines.Line2D at 0x11baa7da0>]"
      ]
     },
     "execution_count": 4,
     "metadata": {},
     "output_type": "execute_result"
    },
    {
     "data": {
      "image/png": "[encoded data removed]",
      "text/plain": [
       "<Figure size 432x288 with 1 Axes>"
      ]
     },
     "metadata": {
      "needs_background": "light"
     },
     "output_type": "display_data"
    }
   ],
   "source": [
    "plt.plot(grads)"
   ]
  },
  {
   "cell_type": "markdown",
   "metadata": {},
   "source": [
    "from this graph we can see that the norm of grad drops quickly and resides at a value near 0, so I checked the termination criteria 0.1,0.2,0.5"
   ]
  },
  {
   "cell_type": "code",
   "execution_count": 5,
   "metadata": {},
   "outputs": [
    {
     "name": "stdout",
     "output_type": "stream",
     "text": [
      "0.17025425322914867\n",
      "239905\n"
     ]
    }
   ],
   "source": [
    "stepsize=0.00001\n",
    "tol=0.1\n",
    "\n",
    "w = np.zeros(d)\n",
    "curgrad=grad(w,x,y)\n",
    "T=0\n",
    "while (np.linalg.norm(curgrad)>=tol):\n",
    "    w=w-stepsize*curgrad\n",
    "    curgrad=grad(w,x,y)\n",
    "    T=T+1\n",
    "fval1=fval(w,x,y)\n",
    "print(fval1)\n",
    "print(T)"
   ]
  },
  {
   "cell_type": "code",
   "execution_count": 6,
   "metadata": {},
   "outputs": [
    {
     "name": "stdout",
     "output_type": "stream",
     "text": [
      "0.2055259929515012\n",
      "20361\n"
     ]
    }
   ],
   "source": [
    "stepsize=0.00001\n",
    "tol=0.2\n",
    "w = np.zeros(d)\n",
    "curgrad=grad(w,x,y)\n",
    "T=0\n",
    "while (np.linalg.norm(curgrad)>=tol):\n",
    "    w=w-stepsize*curgrad\n",
    "    curgrad=grad(w,x,y)\n",
    "    T=T+1\n",
    "fval1=fval(w,x,y)\n",
    "print(fval1)\n",
    "print(T)"
   ]
  },
  {
   "cell_type": "code",
   "execution_count": 7,
   "metadata": {},
   "outputs": [
    {
     "name": "stdout",
     "output_type": "stream",
     "text": [
      "0.13385619716798722\n",
      "252862\n"
     ]
    }
   ],
   "source": [
    "stepsize=0.00005\n",
    "tol=0.1\n",
    "w = np.zeros(d)\n",
    "curgrad=grad(w,x,y)\n",
    "T=0\n",
    "while (np.linalg.norm(curgrad)>=tol):\n",
    "    w=w-stepsize*curgrad\n",
    "    curgrad=grad(w,x,y)\n",
    "    T=T+1\n",
    "fval1=fval(w,x,y)\n",
    "print(fval1)\n",
    "print(T)"
   ]
  },
  {
   "cell_type": "markdown",
   "metadata": {},
   "source": [
    "# Problem 2"
   ]
  },
  {
   "cell_type": "code",
   "execution_count": 8,
   "metadata": {},
   "outputs": [],
   "source": [
    "\n",
    "ts=np.arange(0,1.1,0.1)"
   ]
  },
  {
   "cell_type": "code",
   "execution_count": 14,
   "metadata": {},
   "outputs": [],
   "source": [
    "data = genfromtxt('LRTest.csv', delimiter=',',skip_header = 1)\n",
    "data2=data[:,:30]\n",
    "values=[]\n",
    "for i in range(len(ts)):\n",
    "    t=ts[i]\n",
    "    yhat=[]\n",
    "    #math.exp(-np.transpose(w)*data2[i,:])\n",
    "    for i in range(len(data2)):\n",
    "        predict=1/(1+math.exp(-np.dot(np.transpose(w),data2[i,:]))) \n",
    "        if predict>t:\n",
    "            yhat.append(1)\n",
    "        else:\n",
    "            yhat.append(0)\n",
    "    TPR=(sum((yhat==data[:,30])&yhat==1)/sum(data[:,30]==1))#TP\n",
    "    FPR=(sum((yhat!=data[:,30])&yhat==1)/sum(data[:,30]==0))#FP\n",
    "    TNR = 1-FPR\n",
    "    FNR = 1-TPR \n",
    "    b=[t,TPR,FPR,TNR,FNR]\n",
    "    values.append(b)"
   ]
  },
  {
   "cell_type": "code",
   "execution_count": 15,
   "metadata": {},
   "outputs": [
    {
     "data": {
      "text/html": [
       "<div>\n",
       "<style scoped>\n",
       "    .dataframe tbody tr th:only-of-type {\n",
       "        vertical-align: middle;\n",
       "    }\n",
       "\n",
       "    .dataframe tbody tr th {\n",
       "        vertical-align: top;\n",
       "    }\n",
       "\n",
       "    .dataframe thead th {\n",
       "        text-align: right;\n",
       "    }\n",
       "</style>\n",
       "<table border=\"1\" class=\"dataframe\">\n",
       "  <thead>\n",
       "    <tr style=\"text-align: right;\">\n",
       "      <th></th>\n",
       "      <th>TPR</th>\n",
       "      <th>FPR</th>\n",
       "      <th>TNR</th>\n",
       "      <th>FNR</th>\n",
       "    </tr>\n",
       "    <tr>\n",
       "      <th>t</th>\n",
       "      <th></th>\n",
       "      <th></th>\n",
       "      <th></th>\n",
       "      <th></th>\n",
       "    </tr>\n",
       "  </thead>\n",
       "  <tbody>\n",
       "    <tr>\n",
       "      <th>0.0</th>\n",
       "      <td>1.000000</td>\n",
       "      <td>1.000000</td>\n",
       "      <td>0.000000</td>\n",
       "      <td>0.000000</td>\n",
       "    </tr>\n",
       "    <tr>\n",
       "      <th>0.1</th>\n",
       "      <td>0.969388</td>\n",
       "      <td>0.210526</td>\n",
       "      <td>0.789474</td>\n",
       "      <td>0.030612</td>\n",
       "    </tr>\n",
       "    <tr>\n",
       "      <th>0.2</th>\n",
       "      <td>0.959184</td>\n",
       "      <td>0.128655</td>\n",
       "      <td>0.871345</td>\n",
       "      <td>0.040816</td>\n",
       "    </tr>\n",
       "    <tr>\n",
       "      <th>0.3</th>\n",
       "      <td>0.948980</td>\n",
       "      <td>0.105263</td>\n",
       "      <td>0.894737</td>\n",
       "      <td>0.051020</td>\n",
       "    </tr>\n",
       "    <tr>\n",
       "      <th>0.4</th>\n",
       "      <td>0.938776</td>\n",
       "      <td>0.058480</td>\n",
       "      <td>0.941520</td>\n",
       "      <td>0.061224</td>\n",
       "    </tr>\n",
       "    <tr>\n",
       "      <th>0.5</th>\n",
       "      <td>0.918367</td>\n",
       "      <td>0.046784</td>\n",
       "      <td>0.953216</td>\n",
       "      <td>0.081633</td>\n",
       "    </tr>\n",
       "    <tr>\n",
       "      <th>0.6</th>\n",
       "      <td>0.897959</td>\n",
       "      <td>0.035088</td>\n",
       "      <td>0.964912</td>\n",
       "      <td>0.102041</td>\n",
       "    </tr>\n",
       "    <tr>\n",
       "      <th>0.7</th>\n",
       "      <td>0.867347</td>\n",
       "      <td>0.035088</td>\n",
       "      <td>0.964912</td>\n",
       "      <td>0.132653</td>\n",
       "    </tr>\n",
       "    <tr>\n",
       "      <th>0.8</th>\n",
       "      <td>0.857143</td>\n",
       "      <td>0.023392</td>\n",
       "      <td>0.976608</td>\n",
       "      <td>0.142857</td>\n",
       "    </tr>\n",
       "    <tr>\n",
       "      <th>0.9</th>\n",
       "      <td>0.836735</td>\n",
       "      <td>0.017544</td>\n",
       "      <td>0.982456</td>\n",
       "      <td>0.163265</td>\n",
       "    </tr>\n",
       "    <tr>\n",
       "      <th>1.0</th>\n",
       "      <td>0.000000</td>\n",
       "      <td>0.000000</td>\n",
       "      <td>1.000000</td>\n",
       "      <td>1.000000</td>\n",
       "    </tr>\n",
       "  </tbody>\n",
       "</table>\n",
       "</div>"
      ],
      "text/plain": [
       "          TPR       FPR       TNR       FNR\n",
       "t                                          \n",
       "0.0  1.000000  1.000000  0.000000  0.000000\n",
       "0.1  0.969388  0.210526  0.789474  0.030612\n",
       "0.2  0.959184  0.128655  0.871345  0.040816\n",
       "0.3  0.948980  0.105263  0.894737  0.051020\n",
       "0.4  0.938776  0.058480  0.941520  0.061224\n",
       "0.5  0.918367  0.046784  0.953216  0.081633\n",
       "0.6  0.897959  0.035088  0.964912  0.102041\n",
       "0.7  0.867347  0.035088  0.964912  0.132653\n",
       "0.8  0.857143  0.023392  0.976608  0.142857\n",
       "0.9  0.836735  0.017544  0.982456  0.163265\n",
       "1.0  0.000000  0.000000  1.000000  1.000000"
      ]
     },
     "execution_count": 15,
     "metadata": {},
     "output_type": "execute_result"
    }
   ],
   "source": [
    "df2 = pd.DataFrame(np.array(values),columns=[\"t\",\"TPR\",\"FPR\",\"TNR\",\"FNR\"])\n",
    "df2.set_index('t',inplace=True)\n",
    "df2.head(n=12)\n"
   ]
  },
  {
   "cell_type": "code",
   "execution_count": 16,
   "metadata": {},
   "outputs": [],
   "source": [
    "export_excel = df2.to_excel (r'Assignment4.xlsx', index = True, header=True)"
   ]
  },
  {
   "cell_type": "code",
   "execution_count": null,
   "metadata": {},
   "outputs": [],
   "source": []
  },
  {
   "cell_type": "code",
   "execution_count": null,
   "metadata": {},
   "outputs": [],
   "source": []
  }
 ],
 "metadata": {
  "kernelspec": {
   "display_name": "Python 3",
   "language": "python",
   "name": "python3"
  },
  "language_info": {
   "codemirror_mode": {
    "name": "ipython",
    "version": 3
   },
   "file_extension": ".py",
   "mimetype": "text/x-python",
   "name": "python",
   "nbconvert_exporter": "python",
   "pygments_lexer": "ipython3",
   "version": "3.6.9"
  }
 },
 "nbformat": 4,
 "nbformat_minor": 2
}
