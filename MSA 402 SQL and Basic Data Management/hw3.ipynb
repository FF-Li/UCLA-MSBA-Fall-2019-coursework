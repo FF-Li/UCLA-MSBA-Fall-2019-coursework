{
 "cells": [
  {
   "cell_type": "markdown",
   "metadata": {},
   "source": [
    "# Homework 3 (Advanced MySQL and Jupyter)\n",
    "\n",
    "## Overview\n",
    "\n",
    "In this homework, you will practice more SQL queries using the same sample database that you used in Homework 2. In addition, you will gain experience using MySQL in Jupyter/Python by writing your commands inside this Jupyter notebook.\n",
    "\n",
    "## Setup \n",
    "\n",
    "A Jupyter notebook server is preinstalled in the `mysql` container. You can start the Jupyter server by executing the following command inside the container\n",
    "\n",
    "```\n",
    "$ jupyter notebook\n",
    "[W 03:24:58.828 NotebookApp] All authentication is disabled.  Anyone who can connect to this server will be able to run code.\n",
    "[I 03:24:58.885 NotebookApp] JupyterLab extension loaded from /usr/local/lib/python3.6/dist-packages/jupyterlab\n",
    "[I 03:24:58.885 NotebookApp] JupyterLab application directory is /usr/local/share/jupyter/lab\n",
    "[I 03:24:58.888 NotebookApp] Serving notebooks from local directory: /home/msa402\n",
    "[I 03:24:58.889 NotebookApp] The Jupyter Notebook is running at:\n",
    "[I 03:24:58.889 NotebookApp] http://(08058294852c or 127.0.0.1):8888/\n",
    "[I 03:24:58.889 NotebookApp] Use Control-C to stop this server and shut down all kernels (twice to skip confirmation).\n",
    "```\n",
    "\n",
    "Once started, you can access the Jupyter server at <http://localhost:8888/> on your host machine. Please open your browser and access the URL and ensure that the server is running.\n",
    "\n",
    "**Note**: In case you are using Docker Toolbox on Windows and your browser does not display a page at <http://localhost:8888>, run `docker-machine ls` in your docker terminal to determine where your container is running. It can be, for example, 192.168.99.100. Then, go to <http://192.168.99.100:8888> instead of <http://localhost:8888>.\n",
    "\n",
    "## Download the notebook\n",
    "\n",
    "Now download this notebook to your computer, by right clicking on the \"download icon\" at the top of this notebook and selecting the \"Save Link As...\" context menu. \n",
    "\n",
    "![Download Link](http://oak.cs.ucla.edu/classes/msa402/homeworks/notebook-download-link.png)\n",
    "\n",
    "Move the downloaded notebook to the shared directory in your host computer, so that the notebook is accessible from within the container, and in turn, the Jupyter notebook server. Open the downloaded notebook by navigating to your shared directory within the Jupyter server accessed through your browser. \n",
    "\n",
    "![Shared Folder](http://oak.cs.ucla.edu/classes/msa402/homeworks/notebook-shared.png)\n",
    "\n",
    "\n",
    "The rest of this homework should be performed by editing the notebook that you have locally downloaded. Please fill the appropriate cells in the notebook with your code that performs the tasks given below."
   ]
  },
  {
   "cell_type": "markdown",
   "metadata": {},
   "source": [
    "## Setup MySQL connection\n",
    "\n",
    "We often need to pull data stored in a RDBMS and manipulate and display it using our own custom program. One goal of this homework is to learn how to do it with the Python programming language.\n",
    "\n",
    "First, go over the [Python MySQL Connector Tutorial](https://www.w3schools.com/python/python_mysql_getstarted.asp) to learn how to connect to a MySQL database and run SQL queries to it. In following the tutorial, you can skip \"Install MySQL Driver\" and \"Test MySQL Connector\" sections and start at the \"Create Connection\" section because MySQL server and its connector has already been properly setup.\n",
    "\n",
    "Note that when you create a database connector using `connect()`, you need to use `database='msa402'` and `user='msa402'` as its parameters like the following:\n",
    "\n",
    "```python\n",
    "mydb = mysql.connector.connect(\n",
    "    database='msa402',\n",
    "    user='msa402'\n",
    ")\n",
    "```\n",
    "\n",
    "since these are the names of our database and the user.\n",
    "\n",
    "Once the database connector is set up and a cursor is obtained by calling `cursor()`, any SQL command can be executed via `execute()` as it is explained in the tutorial."
   ]
  },
  {
   "cell_type": "markdown",
   "metadata": {},
   "source": [
    "**Task1**: Now that you have learned how, your task here is to import mysql-connector for python (`mysql.connector` module), connect to the `msa402` database as the user `msa402`, and obtain the cursor. Please fill in the cell below with a sequence of python commands that perform this task:"
   ]
  },
  {
   "cell_type": "code",
   "execution_count": 27,
   "metadata": {},
   "outputs": [
    {
     "name": "stdout",
     "output_type": "stream",
     "text": [
      "<mysql.connector.connection_cext.CMySQLConnection object at 0x7f39fb805630>\n"
     ]
    }
   ],
   "source": [
    "import mysql.connector\n",
    "\n",
    "mydb = mysql.connector.connect(\n",
    "    database='msa402',\n",
    "    user='msa402'\n",
    "    #connection_timeout=3600\n",
    ")\n",
    "\n",
    "print(mydb)\n",
    "\n",
    "mycursor=mydb.cursor()\n"
   ]
  },
  {
   "cell_type": "markdown",
   "metadata": {},
   "source": [
    "## Create tables\n",
    "\n",
    "**Task2**: Now that you have established MySQL connection and obtained the cursor, it is time to use it to execute SQL comands to create tables. In the cell below, execute a series of `create table` command to create tables according to the following schema:\n",
    "    \n",
    "Classroom(<u>building</u>, <u>room\\_number</u>, capacity)  \n",
    "Department(<u>dept</u>, building, budget)  \n",
    "Class(<u>class\\_id</u>, title, dept, credits)  \n",
    "Instructor(<u>id</u>, name, dept, salary)  \n",
    "Section(<u>class\\_id</u>, <u>sec\\_id</u>, <u>semester</u>, <u>year</u>, building, om\\_number)  \n",
    "Teaches(<u>id</u>, <u>class\\_id</u>, <u>sec\\_id</u>, <u>semester</u>, <u>year</u>)  \n",
    "Student(<u>id</u>, name, dept, tot\\_cred)  \n",
    "Takes(<u>id</u>, <u>class\\_id</u>, <u>sec\\_id</u>, <u>semester</u>, <u>year</u>, grade)  \n",
    "Advisor(<u>s\\_id</u>, i\\_id)  \n",
    "Prereq(<u>class\\_id</u>, <u>prereq\\_id</u>)  \n",
    "\n",
    "Please note that we already provided [SQL script file](http://oak.cs.ucla.edu/classes/msa402/homeworks/hw2-load.sql) that included the SQL commands to create tables according to the above schema. It is OK to copy create table commands from the file."
   ]
  },
  {
   "cell_type": "code",
   "execution_count": 2,
   "metadata": {},
   "outputs": [],
   "source": [
    "mycursor.execute(\"\"\"\n",
    "drop table if exists Advisor\n",
    "\"\"\")\n",
    "mycursor.execute(\"\"\"\n",
    "drop table if exists Takes;\n",
    "\"\"\")\n",
    "\n",
    "mycursor.execute(\"\"\"\n",
    "drop table if exists Student;\n",
    "\"\"\")\n",
    "mycursor.execute(\"\"\"\n",
    "drop table if exists Teaches;\n",
    "\"\"\")\n",
    "mycursor.execute(\"\"\"\n",
    "drop table if exists Section;\n",
    "\"\"\")\n",
    "mycursor.execute(\"\"\"\n",
    "drop table if exists Instructor;\n",
    "\"\"\")\n",
    "mycursor.execute(\"\"\"\n",
    "drop table if exists Class;\n",
    "\"\"\")\n",
    "mycursor.execute(\"\"\"\n",
    "drop table if exists Department;\n",
    "\"\"\")\n",
    "mycursor.execute(\"\"\"\n",
    "drop table if exists Classroom;\n",
    "\"\"\")\n",
    "mycursor.execute(\"\"\"\n",
    "drop table if exists Prereq;\n",
    "\"\"\")"
   ]
  },
  {
   "cell_type": "code",
   "execution_count": 3,
   "metadata": {},
   "outputs": [],
   "source": [
    "mycursor.execute(\"\"\"\n",
    "create table Classroom (building varchar(15), room_number integer, capacity integer, primary key (building, room_number) );\n",
    "\"\"\")\n",
    "mycursor.execute(\"\"\"\n",
    "create table Department (dept varchar(20), building varchar(15), budget decimal(12,2), primary key (dept) );\n",
    "\"\"\")\n",
    "mycursor.execute(\"\"\"\n",
    "create table Class (class_id varchar(8), title varchar(50), dept varchar(20), credits integer, primary key (class_id) );\n",
    "\"\"\")\n",
    "mycursor.execute(\"\"\"\n",
    "create table Instructor (id integer, name varchar(20) not null, dept varchar(20), salary decimal(8,2), primary key (id) );\n",
    "\"\"\")\n",
    "mycursor.execute(\"\"\"\n",
    "create table Section (class_id varchar(8), sec_id integer, semester varchar(6), year integer, building varchar(15), room_number integer, primary key (class_id, sec_id, semester, year) );\n",
    "\"\"\")\n",
    "mycursor.execute(\"\"\"\n",
    "create table Teaches (id integer, class_id varchar(8), sec_id integer, semester varchar(6), year integer, primary key (id, class_id, sec_id, semester, year) );\n",
    "\"\"\")\n",
    "mycursor.execute(\"\"\"\n",
    "create table Student (id integer, name varchar(20) not null, dept varchar(20), tot_cred integer, primary key (id) );\n",
    "\"\"\")\n",
    "mycursor.execute(\"\"\"\n",
    "create table Takes (id integer, class_id varchar(8), sec_id integer, semester varchar(6), year integer, grade varchar(2), primary key (id, class_id, sec_id, semester, year) );\n",
    "\"\"\")\n",
    "mycursor.execute(\"\"\"\n",
    "create table Advisor (s_id integer, i_id integer, primary key (s_id) );\n",
    "\"\"\")\n",
    "mycursor.execute(\"\"\"\n",
    "create table Prereq (class_id varchar(8), prereq_id varchar(8), primary key(class_id, prereq_id) );\n",
    "\"\"\")"
   ]
  },
  {
   "cell_type": "markdown",
   "metadata": {},
   "source": [
    "## Load tuples\n",
    "\n",
    "**Task3**: Now populate the created tables with the same set of tuples that [our script](http://oak.cs.ucla.edu/classes/msa402/homeworks/hw2-load.sql) inserts. Again it is OK to copy insert commands in the script. "
   ]
  },
  {
   "cell_type": "code",
   "execution_count": 4,
   "metadata": {},
   "outputs": [],
   "source": [
    "mycursor.execute(\"\"\"\n",
    "insert into Classroom values ('Packard', '101', '500'), ('Painter', '514', '10'), ('Taylor', '3128', '70'), ('Watson', '100', '30'), ('Watson', '120', '50');\n",
    "\"\"\")\n",
    "mycursor.execute(\"\"\"\n",
    "insert into Department values ('Biology', 'Watson', '90000'), ('Comp. Sci.', 'Taylor', '100000'), ('Elec. Eng.', 'Taylor', '85000'), ('Finance', 'Painter', '120000'), ('History', 'Painter', '50000'), ('Music', 'Packard', '80000'), ('Physics', 'Watson', '70000');\n",
    "\"\"\")\n",
    "mycursor.execute(\"\"\"\n",
    "insert into Class values ('CS-101', 'Intro. to Computer Science', 'Comp. Sci.', '4'), ('BIO-101', 'Intro. to Biology', 'Biology', '4'), ('BIO-301', 'Genetics', 'Biology', '4'), ('BIO-399', 'Computational Biology', 'Biology', '3'), ('CS-190', 'Game Design', 'Comp. Sci.', '4'), ('CS-315', 'Robotics', 'Comp. Sci.', '3'), ('CS-319', 'Image Processing', 'Comp. Sci.', '3'), ('CS-347', 'Database System Concepts', 'Comp. Sci.', '3'), ('EE-181', 'Intro. to Digital Systems', 'Elec. Eng.', '3'), ('FIN-201', 'Investment Banking', 'Finance', '3'), ('HIS-351', 'World History', 'History', '3'), ('MU-199', 'Music Video Production', 'Music', '3'), ('PHY-101', 'Physical Principles', 'Physics', '4');\n",
    "\"\"\")\n",
    "mycursor.execute(\"\"\"\n",
    "insert into Instructor values ('10101', 'Srinivasan', 'Comp. Sci.', '65000'), ('12121', 'Wu', 'Finance', '90000'), ('15151', 'Mozart', 'Music', '40000'), ('22222', 'Einstein', 'Physics', '95000'), ('32343', 'El Said', 'History', '60000'), ('33456', 'Gold', 'Physics', '87000'), ('45565', 'Katz', 'Comp. Sci.', '75000'), ('58583', 'Califieri', 'History', '62000'), ('87543', 'Singh', 'Finance', '80000'), ('76766', 'Crick', 'Biology', '72000'), ('83821', 'Brandt', 'Comp. Sci.', '92000'), ('98345', 'Kim', 'Elec. Eng.', '80000');\n",
    "\"\"\")\n",
    "mycursor.execute(\"\"\"\n",
    "insert into Section values ('BIO-101', '1', 'Summer', '2009', 'Painter', '514'), ('BIO-301', '1', 'Summer', '2010', 'Painter', '514'), ('CS-101', '1', 'Fall', '2009', 'Packard', '101'), ('CS-101', '1', 'Spring', '2010', 'Packard', '101'), ('CS-190', '1', 'Spring', '2009', 'Taylor', '3128'), ('CS-190', '2', 'Spring', '2009', 'Taylor', '3128'), ('CS-315', '1', 'Spring', '2010', 'Watson', '120'), ('CS-319', '1', 'Spring', '2010', 'Watson', '100'), ('CS-319', '2', 'Spring', '2010', 'Taylor', '3128'), ('CS-347', '1', 'Fall', '2009', 'Taylor', '3128'), ('EE-181', '1', 'Spring', '2009', 'Taylor', '3128'), ('FIN-201', '1', 'Spring', '2010', 'Packard', '101'), ('HIS-351', '1', 'Spring', '2010', 'Painter', '514'), ('MU-199', '1', 'Spring', '2010', 'Packard', '101'), ('PHY-101', '1', 'Fall', '2009', 'Watson', '100');\n",
    "\"\"\")\n",
    "mycursor.execute(\"\"\"\n",
    "insert into Teaches values ('12121', 'FIN-201', '1', 'Spring', '2010'), ('10101', 'CS-315', '1', 'Spring', '2010'), ('10101', 'CS-101', '1', 'Fall', '2009'), ('10101', 'CS-347', '1', 'Fall', '2009'), ('15151', 'MU-199', '1', 'Spring', '2010'), ('22222', 'PHY-101', '1', 'Fall', '2009'), ('32343', 'HIS-351', '1', 'Spring', '2010'), ('45565', 'CS-101', '1', 'Spring', '2010'), ('45565', 'CS-319', '1', 'Spring', '2010'), ('76766', 'BIO-101', '1', 'Summer', '2009'), ('76766', 'BIO-301', '1', 'Summer', '2010'), ('83821', 'CS-190', '1', 'Spring', '2009'), ('83821', 'CS-190', '2', 'Spring', '2009'), ('83821', 'CS-319', '2', 'Spring', '2010'), ('98345', 'EE-181', '1', 'Spring', '2009');\n",
    "\"\"\")\n",
    "mycursor.execute(\"\"\"\n",
    "insert into Student values ('54321', 'Williams', 'Comp. Sci.', '54'), ('00128', 'Zhang', 'Comp. Sci.', '102'), ('12345', 'Shankar', 'Comp. Sci.', '32'), ('19991', 'Brandt', 'History', '80'), ('23121', 'Chavez', 'Finance', '110'), ('44553', 'Peltier', 'Physics', '56'), ('45678', 'Levy', 'Physics', '46'), ('55739', 'Sanchez', 'Music', '38'), ('70557', 'Snow', 'Physics', '0'), ('76543', 'Brown', 'Comp. Sci.', '58'), ('76653', 'Aoi', 'Elec. Eng.', '60'), ('98765', 'Bourikas', 'Elec. Eng.', '98'), ('98988', 'Tanaka', 'Biology', '120');\n",
    "\"\"\")\n",
    "mycursor.execute(\"\"\"\n",
    "insert into Takes values ('23121', 'FIN-201', '1', 'Spring', '2010', 'C+'), ('00128', 'CS-101', '1', 'Fall', '2009', 'A'), ('00128', 'CS-347', '1', 'Fall', '2009', 'A-'), ('12345', 'CS-101', '1', 'Fall', '2009', 'C'), ('12345', 'CS-190', '2', 'Spring', '2009', 'A'), ('12345', 'CS-315', '1', 'Spring', '2010', 'A'), ('12345', 'CS-347', '1', 'Fall', '2009', 'A'), ('19991', 'HIS-351', '1', 'Spring', '2010', 'B'), ('44553', 'PHY-101', '1', 'Fall', '2009', 'B-'), ('45678', 'CS-101', '1', 'Fall', '2009', 'F'), ('45678', 'CS-101', '1', 'Spring', '2010', 'B+'), ('45678', 'CS-319', '1', 'Spring', '2010', 'B'), ('54321', 'CS-101', '1', 'Fall', '2009', 'A-'), ('54321', 'CS-190', '2', 'Spring', '2009', 'B+'), ('55739', 'MU-199', '1', 'Spring', '2010', 'A-'), ('76543', 'CS-101', '1', 'Fall', '2009', 'A'), ('76543', 'CS-319', '2', 'Spring', '2010', 'A'), ('76653', 'EE-181', '1', 'Spring', '2009', 'C'), ('98765', 'CS-101', '1', 'Fall', '2009', 'C-'), ('98765', 'CS-315', '1', 'Spring', '2010', 'B'), ('98988', 'BIO-101', '1', 'Summer', '2009', 'A'), ('98988', 'BIO-301', '1', 'Summer', '2010', null);\n",
    "\"\"\")\n",
    "mycursor.execute(\"\"\"\n",
    "insert into Advisor values ('00128', '45565'), ('12345', '10101'), ('23121', '87543'), ('44553', '22222'), ('45678', '22222'), ('76543', '45565'), ('76653', '98345'), ('98765', '98345'), ('98988', '76766');\n",
    "\"\"\")\n",
    "mycursor.execute(\"\"\"\n",
    "insert into Prereq values ('BIO-301', 'BIO-101'), ('BIO-399', 'BIO-101'), ('CS-190', 'CS-101'), ('CS-315', 'CS-101'), ('CS-319', 'CS-101'), ('CS-347', 'CS-101'), ('EE-181', 'PHY-101');\n",
    "\"\"\")\n",
    "mydb.commit()"
   ]
  },
  {
   "cell_type": "markdown",
   "metadata": {},
   "source": [
    "## Advanced SQL queries\n",
    "\n",
    "Now that you have created tables and populated them with tuples, your next job is to write SQL queries given their English descriptions. In each of the cells below, ***write the python code that executes the SQL queries and print out the results***"
   ]
  },
  {
   "cell_type": "markdown",
   "metadata": {},
   "source": [
    "**Query1**: Find the average of the total credits enrolled by students."
   ]
  },
  {
   "cell_type": "code",
   "execution_count": 5,
   "metadata": {},
   "outputs": [
    {
     "name": "stdout",
     "output_type": "stream",
     "text": [
      "(Decimal('65.6923'),)\n"
     ]
    }
   ],
   "source": [
    "# SQL query execution and print command here\n",
    "mycursor.execute(\"SELECT AVG(tot_cred) FROM Student\")\n",
    "\n",
    "myresult = mycursor.fetchall()\n",
    "for x in myresult:\n",
    "  print(x)\n"
   ]
  },
  {
   "cell_type": "markdown",
   "metadata": {},
   "source": [
    "**Query2**: For each department, find the average credit of the department's classes."
   ]
  },
  {
   "cell_type": "code",
   "execution_count": 6,
   "metadata": {},
   "outputs": [
    {
     "name": "stdout",
     "output_type": "stream",
     "text": [
      "(Decimal('3.6667'), 'Biology')\n",
      "(Decimal('3.4000'), 'Comp. Sci.')\n",
      "(Decimal('3.0000'), 'Elec. Eng.')\n",
      "(Decimal('3.0000'), 'Finance')\n",
      "(Decimal('3.0000'), 'History')\n",
      "(Decimal('3.0000'), 'Music')\n",
      "(Decimal('4.0000'), 'Physics')\n"
     ]
    }
   ],
   "source": [
    "# SQL query execution and print command here\n",
    "mycursor.execute(\"\"\"SELECT AVG(credits),Department.dept\n",
    "FROM Department,Class\n",
    "Where Department.dept=Class.dept\n",
    "GROUP BY dept;\"\"\")\n",
    "\n",
    "myresult = mycursor.fetchall()\n",
    "for x in myresult:\n",
    "  print(x)\n"
   ]
  },
  {
   "cell_type": "markdown",
   "metadata": {},
   "source": [
    "**Query3**: Find the departments that offer at least two classes."
   ]
  },
  {
   "cell_type": "code",
   "execution_count": 7,
   "metadata": {},
   "outputs": [
    {
     "name": "stdout",
     "output_type": "stream",
     "text": [
      "('Biology',)\n",
      "('Comp. Sci.',)\n"
     ]
    }
   ],
   "source": [
    "# SQL query execution and print command here\n",
    "mycursor.execute(\"\"\"SELECT Department.dept\n",
    "FROM Department,Class\n",
    "Where Department.dept=Class.dept\n",
    "GROUP BY dept\n",
    "HAVING COUNT(Class.class_id)>=2;\n",
    "\"\"\")\n",
    "myresult = mycursor.fetchall()\n",
    "for x in myresult:\n",
    "  print(x)\n"
   ]
  },
  {
   "cell_type": "markdown",
   "metadata": {},
   "source": [
    "**Query4**: Find the names of such departments that all of their classes are of credits 4 or above. "
   ]
  },
  {
   "cell_type": "code",
   "execution_count": 8,
   "metadata": {},
   "outputs": [
    {
     "name": "stdout",
     "output_type": "stream",
     "text": [
      "('Physics',)\n"
     ]
    }
   ],
   "source": [
    "# SQL query execution and print command here\n",
    "mycursor.execute(\"\"\"SELECT Department.dept\n",
    "FROM Department,Class\n",
    "Where Department.dept=Class.dept\n",
    "GROUP BY dept\n",
    "HAVING MIN(Class.credits)>=4;\n",
    "\"\"\")\n",
    "myresult = mycursor.fetchall()\n",
    "for x in myresult:\n",
    "  print(x)\n"
   ]
  },
  {
   "cell_type": "markdown",
   "metadata": {},
   "source": [
    "**Query5**: For the student with ID 44553, find all classes taken for by the student and return the total number of credits from such classes. Don't display the tot\\_cred value from the student table, you should use SQL aggregation on classes taken by the student."
   ]
  },
  {
   "cell_type": "code",
   "execution_count": 9,
   "metadata": {},
   "outputs": [
    {
     "name": "stdout",
     "output_type": "stream",
     "text": [
      "(Decimal('4'),)\n"
     ]
    }
   ],
   "source": [
    "# SQL query execution and print command here\n",
    "mycursor.execute(\"\"\"SELECT SUM(Class.credits) \n",
    "FROM Class,Takes\n",
    "WHERE id=44553\n",
    "AND Class.class_id=Takes.class_id;\n",
    "\"\"\")\n",
    "myresult = mycursor.fetchall()\n",
    "for x in myresult:\n",
    "  print(x)\n"
   ]
  },
  {
   "cell_type": "markdown",
   "metadata": {},
   "source": [
    "**Query6**: As above, but display the total credits for each of the students, along with the ID of the student; don't bother about the name of the student. (Don't bother about students who have not registered for any classes, they can be omitted)"
   ]
  },
  {
   "cell_type": "code",
   "execution_count": 10,
   "metadata": {},
   "outputs": [
    {
     "name": "stdout",
     "output_type": "stream",
     "text": [
      "(128, Decimal('7'))\n",
      "(12345, Decimal('14'))\n",
      "(19991, Decimal('3'))\n",
      "(23121, Decimal('3'))\n",
      "(44553, Decimal('4'))\n",
      "(45678, Decimal('11'))\n",
      "(54321, Decimal('8'))\n",
      "(55739, Decimal('3'))\n",
      "(76543, Decimal('7'))\n",
      "(76653, Decimal('3'))\n",
      "(98765, Decimal('7'))\n",
      "(98988, Decimal('8'))\n"
     ]
    }
   ],
   "source": [
    "# SQL query execution and print command here\n",
    "mycursor.execute(\"\"\"SELECT Takes.id, SUM(Class.credits) \n",
    "FROM Class,Takes\n",
    "WHERE Class.class_id=Takes.class_id\n",
    "GROUP BY id;\n",
    "\"\"\")\n",
    "myresult = mycursor.fetchall()\n",
    "for x in myresult:\n",
    "  print(x)\n"
   ]
  },
  {
   "cell_type": "markdown",
   "metadata": {},
   "source": [
    "**Query7**: Grades are mapped to a grade point as follows: A:4, B:3, C:2, D:1 and F:0. Plus and minus grades add and subtract 0.3 from the base point, respectively. Create a table, named `LetterToNumber`, to store these mappings, and write a query to find the GPA of each student, using this table. If a student has a null grade for a particular class, ignore the grade for GPA computation. Also do not bother with students who are not registered for any classes, they can be omitted. "
   ]
  },
  {
   "cell_type": "code",
   "execution_count": 11,
   "metadata": {
    "scrolled": true
   },
   "outputs": [
    {
     "name": "stdout",
     "output_type": "stream",
     "text": [
      "(128, Decimal('3.871429'))\n",
      "(12345, Decimal('3.428571'))\n",
      "(19991, Decimal('3.000000'))\n",
      "(23121, Decimal('2.300000'))\n",
      "(44553, Decimal('2.700000'))\n",
      "(45678, Decimal('2.018182'))\n",
      "(54321, Decimal('3.500000'))\n",
      "(55739, Decimal('3.700000'))\n",
      "(76543, Decimal('4.000000'))\n",
      "(76653, Decimal('2.000000'))\n",
      "(98765, Decimal('2.257143'))\n",
      "(98988, Decimal('4.000000'))\n"
     ]
    }
   ],
   "source": [
    "# SQL execution and print command here\n",
    "mycursor.execute(\"\"\"\n",
    "drop table if exists LetterToNumber;\n",
    "\"\"\")\n",
    "mycursor.execute(\"\"\"\n",
    "CREATE TABLE LetterToNumber(grade VARCHAR(5),gradepoint decimal(6,2));\n",
    "\"\"\")\n",
    "mycursor.execute(\"\"\"\n",
    "insert into LetterToNumber values ('A+','4.3'),('A','4'),('A-','3.7'),('B+','3.3'),('B','3'),('B-','2.7'),('C+','2.3'),('C','2'),('C-','1.7'),('D+','1.3'),('D','1'),('D-','0.7'),('F','0');\n",
    "\"\"\")\n",
    "mycursor.execute(\"\"\"\n",
    "SELECT Takes.id, (SUM(LetterToNumber.gradepoint*Class.credits)/SUM(Class.credits)) GPA\n",
    "FROM LetterToNumber,Takes,Class\n",
    "WHERE LetterToNumber.grade=Takes.grade\n",
    "AND Class.class_id=Takes.class_id\n",
    "GROUP BY id;\n",
    "\"\"\")\n",
    "myresult = mycursor.fetchall()\n",
    "for x in myresult:\n",
    "  print(x)"
   ]
  },
  {
   "cell_type": "markdown",
   "metadata": {},
   "source": [
    "**Query8**: Find all rooms that have been assigned to more than one section in the same semester."
   ]
  },
  {
   "cell_type": "code",
   "execution_count": 12,
   "metadata": {},
   "outputs": [
    {
     "name": "stdout",
     "output_type": "stream",
     "text": [
      "(3128, 'Taylor')\n",
      "(101, 'Packard')\n"
     ]
    }
   ],
   "source": [
    "# SQL query execution and print command here\n",
    "mycursor.execute(\"\"\"\n",
    "SELECT Section.room_number,Section.building\n",
    "FROM Section\n",
    "GROUP BY Section.semester,Section.year, room_number\n",
    "HAVING COUNT(Section.class_id)>=2;\n",
    "\"\"\")\n",
    "myresult = mycursor.fetchall()\n",
    "for x in myresult:\n",
    "  print(x)\n"
   ]
  },
  {
   "cell_type": "markdown",
   "metadata": {},
   "source": [
    "**Query9**: Find the maximum and minimum enrollment across all sections, considering only sections that had some enrollment, don't worry about those that had no students taking that section."
   ]
  },
  {
   "cell_type": "code",
   "execution_count": 13,
   "metadata": {},
   "outputs": [
    {
     "name": "stdout",
     "output_type": "stream",
     "text": [
      "(6, 1)\n"
     ]
    }
   ],
   "source": [
    "# SQL query execution and print command here\n",
    "mycursor.execute(\"\"\"\n",
    "SELECT MAX(count),MIN(count)\n",
    "FROM(\n",
    "  SELECT COUNT(Takes.id) count\n",
    "  FROM Takes\n",
    "  GROUP BY class_id,sec_id,semester,year) AS S;\n",
    "\"\"\")\n",
    "myresult = mycursor.fetchall()\n",
    "for x in myresult:\n",
    "  print(x)\n"
   ]
  },
  {
   "cell_type": "markdown",
   "metadata": {},
   "source": [
    "**Query10**: Find all sections that had the minimum enrollment (along with the enrollment), using a subquery."
   ]
  },
  {
   "cell_type": "code",
   "execution_count": 28,
   "metadata": {},
   "outputs": [
    {
     "name": "stdout",
     "output_type": "stream",
     "text": [
      "('BIO-101', 1, 'Summer', 2009, 1)\n",
      "('BIO-301', 1, 'Summer', 2010, 1)\n",
      "('CS-101', 1, 'Spring', 2010, 1)\n",
      "('CS-319', 1, 'Spring', 2010, 1)\n",
      "('CS-319', 2, 'Spring', 2010, 1)\n",
      "('EE-181', 1, 'Spring', 2009, 1)\n",
      "('FIN-201', 1, 'Spring', 2010, 1)\n",
      "('HIS-351', 1, 'Spring', 2010, 1)\n",
      "('MU-199', 1, 'Spring', 2010, 1)\n",
      "('PHY-101', 1, 'Fall', 2009, 1)\n"
     ]
    }
   ],
   "source": [
    "# SQL query execution and print command here\n",
    "mycursor.execute(\"\"\"\n",
    "\n",
    "SELECT S.class_id,S.sec_id,S.semester,S.year,S.count\n",
    "FROM(\n",
    "   SELECT class_id,sec_id,COUNT(Takes.id) count,semester,year\n",
    "  FROM Takes\n",
    "  GROUP BY class_id,sec_id,semester,year) AS S\n",
    "WHERE(S.count =(\n",
    "  SELECT MIN(count)\n",
    "  FROM(\n",
    "    SELECT COUNT(Takes.id) count\n",
    "  FROM Takes\n",
    "  GROUP BY class_id,sec_id) AS S))\n",
    "\"\"\")\n",
    "myresult = mycursor.fetchall()\n",
    "for x in myresult:\n",
    "  print(x)\n"
   ]
  },
  {
   "cell_type": "markdown",
   "metadata": {},
   "source": [
    "**Query11**: Find the students whose total credit from CS classes is larger than the total credit from all non-CS classes. You need to compute the number of credits using the Takes table."
   ]
  },
  {
   "cell_type": "code",
   "execution_count": 15,
   "metadata": {},
   "outputs": [],
   "source": [
    "# mycursor.execute(\"\"\"\n",
    "# WITH A1 AS (SELECT Takes.id, Class.dept,SUM(Class.credits) credit1\n",
    "# FROM Class,Takes\n",
    "# WHERE Class.class_id=Takes.class_id\n",
    "# AND Class.dept='Comp. Sci.'\n",
    "# GROUP BY Class.dept,Takes.id),A2 AS (SELECT Takes.id, Class.dept,SUM(Class.credits) credit2\n",
    "# FROM Class,Takes\n",
    "# WHERE Class.class_id=Takes.class_id\n",
    "# AND Class.dept<>'Comp. Sci.'\n",
    "# GROUP BY Class.dept,Takes.id)\n",
    "\n",
    "# SELECT DISTINCT A1.id FROM\n",
    "# A1, A2\n",
    "\n",
    "# WHERE (A1.credit1>A2.credit2\n",
    "# AND A1.id=A2.id)\n",
    "# OR (A1.id NOT IN (SELECT A2.id FROM A2))\n",
    "\n",
    "# \"\"\")\n",
    "# myresult = mycursor.fetchall()\n",
    "# for x in myresult:\n",
    "#   print(x)"
   ]
  },
  {
   "cell_type": "code",
   "execution_count": 16,
   "metadata": {},
   "outputs": [],
   "source": [
    "mycursor.execute(\"\"\"\n",
    "WITH A1 AS (SELECT Takes.id, Class.dept,SUM(Class.credits) credit1\n",
    "FROM Class,Takes\n",
    "WHERE Class.class_id=Takes.class_id\n",
    "AND Class.dept='Comp. Sci.'\n",
    "GROUP BY Class.dept,Takes.id),A2 AS (SELECT Takes.id, Class.dept,SUM(Class.credits) credit2\n",
    "FROM Class,Takes\n",
    "WHERE Class.class_id=Takes.class_id\n",
    "AND Class.dept<>'Comp. Sci.'\n",
    "GROUP BY Class.dept,Takes.id)\n",
    "\n",
    "SELECT DISTINCT A1.id FROM\n",
    "A1, A2\n",
    "\n",
    "WHERE (A1.credit1>A2.credit2\n",
    "AND A1.id=A2.id)\n",
    "\"\"\")\n",
    "myresult = mycursor.fetchall()\n",
    "for x in myresult:\n",
    "    print(x)"
   ]
  },
  {
   "cell_type": "markdown",
   "metadata": {},
   "source": [
    "**Query12**: Find the students who obtained the least credits from the CS department among all departments from which they took classes. You need to compute the number of credits using the Takes table."
   ]
  },
  {
   "cell_type": "code",
   "execution_count": 17,
   "metadata": {},
   "outputs": [],
   "source": [
    "# SQL query execution and print command here\n",
    "# mycursor.execute(\"\"\"\n",
    "# WITH A1 AS (SELECT Takes.id, Class.dept,SUM(Class.credits) credit1\n",
    "# FROM Class,Takes\n",
    "# WHERE Class.class_id=Takes.class_id\n",
    "# AND Class.dept='Comp. Sci.'\n",
    "# GROUP BY Class.dept,Takes.id),A2 AS (SELECT Takes.id, Class.dept,SUM(Class.credits) credit1\n",
    "# FROM Class,Takes\n",
    "# WHERE Class.class_id=Takes.class_id\n",
    "# GROUP BY Class.dept,Takes.id)\n",
    "\n",
    "# SELECT A1.id FROM A1,A2 \n",
    "# WHERE (A1.credit1<=(SELECT (MIN(A2.credit1) OVER (PARTITION BY id)) FROM A2 WHERE A1.id=A2.id))\n",
    "\n",
    "# UNION\n",
    "# SELECT A2.id FROM A1,A2 \n",
    "# WHERE A2.id NOT IN (SELECT A1.id FROM A1)\n",
    "\n",
    "# \"\"\")\n",
    "# myresult = mycursor.fetchall()\n",
    "# for x in myresult:\n",
    "#   print(x)\n",
    "\n"
   ]
  },
  {
   "cell_type": "code",
   "execution_count": 18,
   "metadata": {},
   "outputs": [],
   "source": [
    "mycursor.execute(\"\"\"\n",
    "WITH A1 AS (SELECT Takes.id, Class.dept,SUM(Class.credits) credit1\n",
    "FROM Class,Takes\n",
    "WHERE Class.class_id=Takes.class_id\n",
    "AND Class.dept='Comp. Sci.'\n",
    "GROUP BY Class.dept,Takes.id),A2 AS (SELECT Takes.id, Class.dept,SUM(Class.credits) credit1\n",
    "FROM Class,Takes\n",
    "WHERE Class.class_id=Takes.class_id\n",
    "AND Class.dept<>'Comp. Sci.'\n",
    "GROUP BY Class.dept,Takes.id)\n",
    "\n",
    "SELECT A1.id FROM A1,A2 \n",
    "WHERE (A1.credit1<=(SELECT (MIN(A2.credit1) OVER (PARTITION BY id)) FROM A2 WHERE A1.id=A2.id))\n",
    "\n",
    "\"\"\")\n",
    "myresult = mycursor.fetchall()\n",
    "for x in myresult:\n",
    "  print(x)"
   ]
  },
  {
   "cell_type": "markdown",
   "metadata": {},
   "source": [
    "**Query13**: Find instructors who have taught all classes with the identifier ending with \"101\"."
   ]
  },
  {
   "cell_type": "code",
   "execution_count": 19,
   "metadata": {},
   "outputs": [],
   "source": [
    "# SQL query execution and print command here\n",
    "# mycursor.execute(\"\"\"\n",
    "# (SELECT Teaches.id,Teaches.class_id\n",
    "# FROM Teaches\n",
    "# WHERE Teaches.class_id LIKE '%101')\n",
    "# EXCEPT\n",
    "# (SELECT S.id,S.class_id FROM(((SELECT Teaches.id,Teaches.class_id\n",
    "# FROM Teaches)\n",
    "\n",
    "# EXCEPT\n",
    "\n",
    "# (SELECT Teaches.id,Teaches.class_id\n",
    "# FROM Teaches\n",
    "# WHERE Teaches.class_id LIKE '%101'))AS S))\n",
    "\n",
    "# \"\"\")\n",
    "# myresult = mycursor.fetchall()\n",
    "# for x in myresult:\n",
    "#   print(x)\n",
    "\n"
   ]
  },
  {
   "cell_type": "code",
   "execution_count": 20,
   "metadata": {},
   "outputs": [
    {
     "name": "stdout",
     "output_type": "stream",
     "text": [
      "(10101, 'Srinivasan', 'CS-101')\n",
      "(22222, 'Einstein', 'PHY-101')\n",
      "(45565, 'Katz', 'CS-101')\n",
      "(76766, 'Crick', 'BIO-101')\n"
     ]
    }
   ],
   "source": [
    "mycursor.execute(\"\"\"\n",
    "SELECT Teaches.id,Instructor.name,Teaches.class_id\n",
    "FROM Teaches,Instructor\n",
    "WHERE Teaches.class_id LIKE '%101'\n",
    "AND Teaches.id=Instructor.id\n",
    "\n",
    "\"\"\")\n",
    "myresult = mycursor.fetchall()\n",
    "for x in myresult:\n",
    "  print(x)\n"
   ]
  },
  {
   "cell_type": "markdown",
   "metadata": {},
   "source": [
    "## Database Modification\n",
    "\n",
    "Your next set of tasks is to write and execute a few database modification commands"
   ]
  },
  {
   "cell_type": "markdown",
   "metadata": {},
   "source": [
    "**M1**: Insert each instructor as a student, with tot\\_cred = 0, in the same department"
   ]
  },
  {
   "cell_type": "code",
   "execution_count": 21,
   "metadata": {},
   "outputs": [
    {
     "name": "stdout",
     "output_type": "stream",
     "text": [
      "(128, 'Zhang', 'Comp. Sci.', 102)\n",
      "(10101, 'Srinivasan', 'Comp. Sci.', 0)\n",
      "(12121, 'Wu', 'Finance', 0)\n",
      "(12345, 'Shankar', 'Comp. Sci.', 32)\n",
      "(15151, 'Mozart', 'Music', 0)\n",
      "(19991, 'Brandt', 'History', 80)\n",
      "(22222, 'Einstein', 'Physics', 0)\n",
      "(23121, 'Chavez', 'Finance', 110)\n",
      "(32343, 'El Said', 'History', 0)\n",
      "(33456, 'Gold', 'Physics', 0)\n",
      "(44553, 'Peltier', 'Physics', 56)\n",
      "(45565, 'Katz', 'Comp. Sci.', 0)\n",
      "(45678, 'Levy', 'Physics', 46)\n",
      "(54321, 'Williams', 'Comp. Sci.', 54)\n",
      "(55739, 'Sanchez', 'Music', 38)\n",
      "(58583, 'Califieri', 'History', 0)\n",
      "(70557, 'Snow', 'Physics', 0)\n",
      "(76543, 'Brown', 'Comp. Sci.', 58)\n",
      "(76653, 'Aoi', 'Elec. Eng.', 60)\n",
      "(76766, 'Crick', 'Biology', 0)\n",
      "(83821, 'Brandt', 'Comp. Sci.', 0)\n",
      "(87543, 'Singh', 'Finance', 0)\n",
      "(98345, 'Kim', 'Elec. Eng.', 0)\n",
      "(98765, 'Bourikas', 'Elec. Eng.', 98)\n",
      "(98988, 'Tanaka', 'Biology', 120)\n"
     ]
    }
   ],
   "source": [
    "# Fill in the python code that executes the SQL modification command\n",
    "mycursor.execute(\"\"\"\n",
    "INSERT INTO Student (id, name, dept,tot_cred)\n",
    "SELECT id, name, dept,'0' FROM Instructor\n",
    ";\n",
    "\"\"\")\n",
    "mycursor.execute(\"\"\"\n",
    "SELECT * FROM Student\n",
    "\"\"\")\n",
    "myresult = mycursor.fetchall()\n",
    "for x in myresult:\n",
    "  print(x)\n",
    "\n"
   ]
  },
  {
   "cell_type": "markdown",
   "metadata": {},
   "source": [
    "**M2**: Now delete all the newly added \"students\" above (note: already existing students who happened to have tot\\_cred = 0 should not get deleted)"
   ]
  },
  {
   "cell_type": "code",
   "execution_count": 22,
   "metadata": {},
   "outputs": [
    {
     "name": "stdout",
     "output_type": "stream",
     "text": [
      "(128, 'Zhang', 'Comp. Sci.', 102)\n",
      "(12345, 'Shankar', 'Comp. Sci.', 32)\n",
      "(19991, 'Brandt', 'History', 80)\n",
      "(23121, 'Chavez', 'Finance', 110)\n",
      "(44553, 'Peltier', 'Physics', 56)\n",
      "(45678, 'Levy', 'Physics', 46)\n",
      "(54321, 'Williams', 'Comp. Sci.', 54)\n",
      "(55739, 'Sanchez', 'Music', 38)\n",
      "(70557, 'Snow', 'Physics', 0)\n",
      "(76543, 'Brown', 'Comp. Sci.', 58)\n",
      "(76653, 'Aoi', 'Elec. Eng.', 60)\n",
      "(98765, 'Bourikas', 'Elec. Eng.', 98)\n",
      "(98988, 'Tanaka', 'Biology', 120)\n"
     ]
    }
   ],
   "source": [
    "# Fill in the python code that executes the SQL modification command\n",
    "mycursor.execute(\"\"\"\n",
    "DELETE FROM Student \n",
    "WHERE Student.id IN (SELECT id FROM Instructor)\n",
    "\"\"\")\n",
    "mycursor.execute(\"\"\"\n",
    "SELECT * FROM Student\n",
    "\"\"\")\n",
    "myresult = mycursor.fetchall()\n",
    "for x in myresult:\n",
    "  print(x)\n",
    "\n"
   ]
  },
  {
   "cell_type": "markdown",
   "metadata": {},
   "source": [
    "**M3**: Some of you may have noticed that the tot\\_cred value for students did not match the credits from courses they have taken. Write and execute query to update tot\\_cred based on the credits passed, to bring the database back to consistency."
   ]
  },
  {
   "cell_type": "code",
   "execution_count": 23,
   "metadata": {},
   "outputs": [
    {
     "name": "stdout",
     "output_type": "stream",
     "text": [
      "(128, 'Zhang', 'Comp. Sci.', 7)\n",
      "(12345, 'Shankar', 'Comp. Sci.', 14)\n",
      "(19991, 'Brandt', 'History', 3)\n",
      "(23121, 'Chavez', 'Finance', 3)\n",
      "(44553, 'Peltier', 'Physics', 4)\n",
      "(45678, 'Levy', 'Physics', 11)\n",
      "(54321, 'Williams', 'Comp. Sci.', 8)\n",
      "(55739, 'Sanchez', 'Music', 3)\n",
      "(70557, 'Snow', 'Physics', 0)\n",
      "(76543, 'Brown', 'Comp. Sci.', 7)\n",
      "(76653, 'Aoi', 'Elec. Eng.', 3)\n",
      "(98765, 'Bourikas', 'Elec. Eng.', 7)\n",
      "(98988, 'Tanaka', 'Biology', 8)\n"
     ]
    }
   ],
   "source": [
    "# Fill in the python code that executes the SQL modification command\n",
    "mycursor.execute(\"\"\"\n",
    "UPDATE\n",
    "    Student S,\n",
    "    (SELECT Takes.id,SUM(Class.credits) Credit\n",
    "     FROM Class,Takes\n",
    "     WHERE Class.class_id=Takes.class_id\n",
    "     GROUP BY id) AS T\n",
    "SET\n",
    "    S.tot_cred = T.Credit   \n",
    "WHERE\n",
    "    S.id = T.id;\n",
    "\"\"\")\n",
    "mycursor.execute(\"\"\"\n",
    "SELECT * FROM Student\n",
    "\"\"\")\n",
    "myresult = mycursor.fetchall()\n",
    "for x in myresult:\n",
    "  print(x)\n"
   ]
  },
  {
   "cell_type": "markdown",
   "metadata": {},
   "source": [
    "**M4**: Update the salary of each instructor to 200 times the number of course sections they have taught."
   ]
  },
  {
   "cell_type": "code",
   "execution_count": 24,
   "metadata": {},
   "outputs": [
    {
     "name": "stdout",
     "output_type": "stream",
     "text": [
      "(10101, 'Srinivasan', 'Comp. Sci.', Decimal('600.00'))\n",
      "(12121, 'Wu', 'Finance', Decimal('200.00'))\n",
      "(15151, 'Mozart', 'Music', Decimal('200.00'))\n",
      "(22222, 'Einstein', 'Physics', Decimal('200.00'))\n",
      "(32343, 'El Said', 'History', Decimal('200.00'))\n",
      "(33456, 'Gold', 'Physics', Decimal('87000.00'))\n",
      "(45565, 'Katz', 'Comp. Sci.', Decimal('400.00'))\n",
      "(58583, 'Califieri', 'History', Decimal('62000.00'))\n",
      "(76766, 'Crick', 'Biology', Decimal('400.00'))\n",
      "(83821, 'Brandt', 'Comp. Sci.', Decimal('600.00'))\n",
      "(87543, 'Singh', 'Finance', Decimal('80000.00'))\n",
      "(98345, 'Kim', 'Elec. Eng.', Decimal('200.00'))\n"
     ]
    }
   ],
   "source": [
    "# Fill in the python code that executes the SQL modification command\n",
    "mycursor.execute(\"\"\"\n",
    "UPDATE\n",
    "    Instructor I,\n",
    "     (SELECT Teaches.id,COUNT(Teaches.sec_id) sum FROM Teaches GROUP BY id) AS A4\n",
    "SET\n",
    "    I.salary=200*A4.sum\n",
    "WHERE I.id=A4.id\n",
    "\n",
    "\"\"\")\n",
    "mycursor.execute(\"\"\"\n",
    "SELECT * FROM Instructor\n",
    "\"\"\")\n",
    "myresult = mycursor.fetchall()\n",
    "for x in myresult:\n",
    "  print(x)\n"
   ]
  },
  {
   "cell_type": "markdown",
   "metadata": {},
   "source": [
    "## What to Submit\n",
    "\n",
    "Once you finish filling in all cells with your code, save this notebook and upload it to CCLE before the deadline.\n",
    "\n",
    "Note : The final submission should run without errors. Click on 'Kernel -> Restart and Run All', this should not give any errors. \n",
    "Make sure the submission only contains the expected commands. Remove all unncessary prints!"
   ]
  },
  {
   "cell_type": "code",
   "execution_count": 25,
   "metadata": {},
   "outputs": [],
   "source": [
    "mycursor.close()\n",
    "mydb.close()"
   ]
  }
 ],
 "metadata": {
  "kernelspec": {
   "display_name": "Python 3",
   "language": "python",
   "name": "python3"
  },
  "language_info": {
   "codemirror_mode": {
    "name": "ipython",
    "version": 3
   },
   "file_extension": ".py",
   "mimetype": "text/x-python",
   "name": "python",
   "nbconvert_exporter": "python",
   "pygments_lexer": "ipython3",
   "version": "3.6.9"
  }
 },
 "nbformat": 4,
 "nbformat_minor": 4
}
